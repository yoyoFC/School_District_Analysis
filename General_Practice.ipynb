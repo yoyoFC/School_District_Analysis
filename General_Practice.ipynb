{
 "cells": [
  {
   "cell_type": "code",
   "execution_count": 6,
   "id": "51fb386e",
   "metadata": {},
   "outputs": [
    {
     "name": "stdout",
     "output_type": "stream",
     "text": [
      "Fido\n",
      "brown\n",
      "woof! woof!\n"
     ]
    }
   ],
   "source": [
    "#Practice for OOP - Oriented object programming\n",
    "class Dog:\n",
    "    def __init__(self, name, color, sound):\n",
    "        self.name = name\n",
    "        self.color = color\n",
    "        self.sound = sound\n",
    "        \n",
    "    def bark(self):\n",
    "        return self.sound+' '+self.sound\n",
    "###############################################\n",
    "\n",
    "first_dog = Dog(\"Fido\",\"brown\",\"woof!\")\n",
    "print(first_dog.name)\n",
    "print(first_dog.color)\n",
    "print(first_dog.bark())\n"
   ]
  },
  {
   "cell_type": "code",
   "execution_count": null,
   "id": "d4f6d0d4",
   "metadata": {},
   "outputs": [],
   "source": []
  }
 ],
 "metadata": {
  "kernelspec": {
   "display_name": "PythonData",
   "language": "python",
   "name": "pythondata"
  },
  "language_info": {
   "codemirror_mode": {
    "name": "ipython",
    "version": 3
   },
   "file_extension": ".py",
   "mimetype": "text/x-python",
   "name": "python",
   "nbconvert_exporter": "python",
   "pygments_lexer": "ipython3",
   "version": "3.7.10"
  }
 },
 "nbformat": 4,
 "nbformat_minor": 5
}
